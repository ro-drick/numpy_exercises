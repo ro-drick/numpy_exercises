{
 "cells": [
  {
   "cell_type": "code",
   "execution_count": 1,
   "id": "b690a5c1-3cd7-4ac2-8acb-ba31b0bdb290",
   "metadata": {},
   "outputs": [],
   "source": [
    "import numpy as np"
   ]
  },
  {
   "cell_type": "markdown",
   "id": "e57c3b42-34cd-4cfd-9ab7-f42fbe2aea35",
   "metadata": {},
   "source": [
    " <h4>1. Write a Numpy program to get the Numpy version and show the Numpy build configuration.</h4>"
   ]
  },
  {
   "cell_type": "code",
   "execution_count": 5,
   "id": "b01c0ba7-1906-4664-80f6-bedd32661770",
   "metadata": {},
   "outputs": [
    {
     "name": "stdout",
     "output_type": "stream",
     "text": [
      "1.26.4\n",
      "Build Dependencies:\n",
      "  blas:\n",
      "    detection method: pkgconfig\n",
      "    found: true\n",
      "    include directory: /c/opt/64/include\n",
      "    lib directory: /c/opt/64/lib\n",
      "    name: openblas64\n",
      "    openblas configuration: USE_64BITINT=1 DYNAMIC_ARCH=1 DYNAMIC_OLDER= NO_CBLAS=\n",
      "      NO_LAPACK= NO_LAPACKE= NO_AFFINITY=1 USE_OPENMP= SKYLAKEX MAX_THREADS=2\n",
      "    pc file directory: C:/opt/64/lib/pkgconfig\n",
      "    version: 0.3.23.dev\n",
      "  lapack:\n",
      "    detection method: internal\n",
      "    found: true\n",
      "    include directory: unknown\n",
      "    lib directory: unknown\n",
      "    name: dep3179274605568\n",
      "    openblas configuration: unknown\n",
      "    pc file directory: unknown\n",
      "    version: 1.26.4\n",
      "Compilers:\n",
      "  c:\n",
      "    commands: cl\n",
      "    linker: link\n",
      "    name: msvc\n",
      "    version: 19.29.30153\n",
      "  c++:\n",
      "    commands: cl\n",
      "    linker: link\n",
      "    name: msvc\n",
      "    version: 19.29.30153\n",
      "  cython:\n",
      "    commands: cython\n",
      "    linker: cython\n",
      "    name: cython\n",
      "    version: 3.0.8\n",
      "Machine Information:\n",
      "  build:\n",
      "    cpu: x86_64\n",
      "    endian: little\n",
      "    family: x86_64\n",
      "    system: windows\n",
      "  host:\n",
      "    cpu: x86_64\n",
      "    endian: little\n",
      "    family: x86_64\n",
      "    system: windows\n",
      "Python Information:\n",
      "  path: C:\\Users\\runneradmin\\AppData\\Local\\Temp\\cibw-run-g7slqwov\\cp312-win_amd64\\build\\venv\\Scripts\\python.exe\n",
      "  version: '3.12'\n",
      "SIMD Extensions:\n",
      "  baseline:\n",
      "  - SSE\n",
      "  - SSE2\n",
      "  - SSE3\n",
      "  found:\n",
      "  - SSSE3\n",
      "  - SSE41\n",
      "  - POPCNT\n",
      "  - SSE42\n",
      "  - AVX\n",
      "  - F16C\n",
      "  - FMA3\n",
      "  - AVX2\n",
      "  not found:\n",
      "  - AVX512F\n",
      "  - AVX512CD\n",
      "  - AVX512_SKX\n",
      "  - AVX512_CLX\n",
      "  - AVX512_CNL\n",
      "  - AVX512_ICL\n",
      "\n",
      "None\n"
     ]
    }
   ],
   "source": [
    "print(np.__version__)\n",
    "print(np.show_config())"
   ]
  },
  {
   "cell_type": "markdown",
   "id": "acaa7135-319f-46a7-a089-de2ecb2fbed1",
   "metadata": {},
   "source": [
    "<h4>2. Write a NumPy program to get help with the add function.</h4>"
   ]
  },
  {
   "cell_type": "code",
   "execution_count": 7,
   "id": "ac037787-5d74-4a5b-8e77-1931dcaec3fb",
   "metadata": {},
   "outputs": [
    {
     "name": "stdout",
     "output_type": "stream",
     "text": [
      "Sum of array elements over a given axis.\n",
      "\n",
      "Parameters\n",
      "----------\n",
      "a : array_like\n",
      "    Elements to sum.\n",
      "axis : None or int or tuple of ints, optional\n",
      "    Axis or axes along which a sum is performed.  The default,\n",
      "    axis=None, will sum all of the elements of the input array.  If\n",
      "    axis is negative it counts from the last to the first axis.\n",
      "\n",
      "    .. versionadded:: 1.7.0\n",
      "\n",
      "    If axis is a tuple of ints, a sum is performed on all of the axes\n",
      "    specified in the tuple instead of a single axis or all the axes as\n",
      "    before.\n",
      "dtype : dtype, optional\n",
      "    The type of the returned array and of the accumulator in which the\n",
      "    elements are summed.  The dtype of `a` is used by default unless `a`\n",
      "    has an integer dtype of less precision than the default platform\n",
      "    integer.  In that case, if `a` is signed then the platform integer\n",
      "    is used while if `a` is unsigned then an unsigned integer of the\n",
      "    same precision as the platform integer is used.\n",
      "out : ndarray, optional\n",
      "    Alternative output array in which to place the result. It must have\n",
      "    the same shape as the expected output, but the type of the output\n",
      "    values will be cast if necessary.\n",
      "keepdims : bool, optional\n",
      "    If this is set to True, the axes which are reduced are left\n",
      "    in the result as dimensions with size one. With this option,\n",
      "    the result will broadcast correctly against the input array.\n",
      "\n",
      "    If the default value is passed, then `keepdims` will not be\n",
      "    passed through to the `sum` method of sub-classes of\n",
      "    `ndarray`, however any non-default value will be.  If the\n",
      "    sub-class' method does not implement `keepdims` any\n",
      "    exceptions will be raised.\n",
      "initial : scalar, optional\n",
      "    Starting value for the sum. See `~numpy.ufunc.reduce` for details.\n",
      "\n",
      "    .. versionadded:: 1.15.0\n",
      "\n",
      "where : array_like of bool, optional\n",
      "    Elements to include in the sum. See `~numpy.ufunc.reduce` for details.\n",
      "\n",
      "    .. versionadded:: 1.17.0\n",
      "\n",
      "Returns\n",
      "-------\n",
      "sum_along_axis : ndarray\n",
      "    An array with the same shape as `a`, with the specified\n",
      "    axis removed.   If `a` is a 0-d array, or if `axis` is None, a scalar\n",
      "    is returned.  If an output array is specified, a reference to\n",
      "    `out` is returned.\n",
      "\n",
      "See Also\n",
      "--------\n",
      "ndarray.sum : Equivalent method.\n",
      "\n",
      "add.reduce : Equivalent functionality of `add`.\n",
      "\n",
      "cumsum : Cumulative sum of array elements.\n",
      "\n",
      "trapz : Integration of array values using the composite trapezoidal rule.\n",
      "\n",
      "mean, average\n",
      "\n",
      "Notes\n",
      "-----\n",
      "Arithmetic is modular when using integer types, and no error is\n",
      "raised on overflow.\n",
      "\n",
      "The sum of an empty array is the neutral element 0:\n",
      "\n",
      ">>> np.sum([])\n",
      "0.0\n",
      "\n",
      "For floating point numbers the numerical precision of sum (and\n",
      "``np.add.reduce``) is in general limited by directly adding each number\n",
      "individually to the result causing rounding errors in every step.\n",
      "However, often numpy will use a  numerically better approach (partial\n",
      "pairwise summation) leading to improved precision in many use-cases.\n",
      "This improved precision is always provided when no ``axis`` is given.\n",
      "When ``axis`` is given, it will depend on which axis is summed.\n",
      "Technically, to provide the best speed possible, the improved precision\n",
      "is only used when the summation is along the fast axis in memory.\n",
      "Note that the exact precision may vary depending on other parameters.\n",
      "In contrast to NumPy, Python's ``math.fsum`` function uses a slower but\n",
      "more precise approach to summation.\n",
      "Especially when summing a large number of lower precision floating point\n",
      "numbers, such as ``float32``, numerical errors can become significant.\n",
      "In such cases it can be advisable to use `dtype=\"float64\"` to use a higher\n",
      "precision for the output.\n",
      "\n",
      "Examples\n",
      "--------\n",
      ">>> np.sum([0.5, 1.5])\n",
      "2.0\n",
      ">>> np.sum([0.5, 0.7, 0.2, 1.5], dtype=np.int32)\n",
      "1\n",
      ">>> np.sum([[0, 1], [0, 5]])\n",
      "6\n",
      ">>> np.sum([[0, 1], [0, 5]], axis=0)\n",
      "array([0, 6])\n",
      ">>> np.sum([[0, 1], [0, 5]], axis=1)\n",
      "array([1, 5])\n",
      ">>> np.sum([[0, 1], [np.nan, 5]], where=[False, True], axis=1)\n",
      "array([1., 5.])\n",
      "\n",
      "If the accumulator is too small, overflow occurs:\n",
      "\n",
      ">>> np.ones(128, dtype=np.int8).sum(dtype=np.int8)\n",
      "-128\n",
      "\n",
      "You can also start the sum with a value other than zero:\n",
      "\n",
      ">>> np.sum([10], initial=5)\n",
      "15\n"
     ]
    }
   ],
   "source": [
    "np.info(np.add)"
   ]
  },
  {
   "cell_type": "markdown",
   "id": "c3f2f1ab-81fe-4eb6-94a2-08f1b6e72115",
   "metadata": {},
   "source": [
    "<h4>3. Write a NumPy program to test whether none of the elements of a given array are zero. \n",
    "</h4>"
   ]
  },
  {
   "cell_type": "code",
   "execution_count": 19,
   "id": "15593043-cf62-4829-86dc-3f715e4aa124",
   "metadata": {},
   "outputs": [
    {
     "data": {
      "text/plain": [
       "False"
      ]
     },
     "execution_count": 19,
     "metadata": {},
     "output_type": "execute_result"
    }
   ],
   "source": [
    "arr= np.array([0,1,2,3,4])\n",
    "np.all(arr != 0)"
   ]
  },
  {
   "cell_type": "markdown",
   "id": "b93d2a7d-9ce4-405e-bdf7-9a56e4a2704c",
   "metadata": {},
   "source": [
    "<h4>5. Write a NumPy program to test a given array element-wise for finiteness (not infinity or not a number).</h4>"
   ]
  },
  {
   "cell_type": "code",
   "execution_count": 21,
   "id": "b92391ba-f731-4c03-950b-0ad142f3206a",
   "metadata": {},
   "outputs": [
    {
     "data": {
      "text/plain": [
       "array([ True,  True,  True, False, False])"
      ]
     },
     "execution_count": 21,
     "metadata": {},
     "output_type": "execute_result"
    }
   ],
   "source": [
    "arr= np.array([1,6,7,np.inf,-np.inf])\n",
    "np.isfinite(arr)"
   ]
  },
  {
   "cell_type": "markdown",
   "id": "70e05dcd-aa8d-47b7-9ed1-286434380a23",
   "metadata": {},
   "source": [
    "<h4>6. Write a NumPy program to test elements-wise for positive or negative infinity. </h4>"
   ]
  },
  {
   "cell_type": "code",
   "execution_count": 22,
   "id": "828c3365-2c98-4391-ac35-f5f6f0937b1e",
   "metadata": {},
   "outputs": [
    {
     "name": "stdout",
     "output_type": "stream",
     "text": [
      "[False False False False  True]\n",
      "[ True False False False False]\n"
     ]
    }
   ],
   "source": [
    "arr= np.array([-np.inf, 9, 8, 0, np.inf])\n",
    "print(np.isposinf(arr))\n",
    "print(np.isneginf(arr))"
   ]
  },
  {
   "cell_type": "markdown",
   "id": "ae22ae1a-8d3d-4ff5-b717-8b7ee4e896c8",
   "metadata": {},
   "source": [
    "<h4>7. Write a NumPy program to test element-wise for NaN of a given array.</h4>"
   ]
  },
  {
   "cell_type": "code",
   "execution_count": 23,
   "id": "a2147c11-3398-4f15-843c-ca96ca4e0b1c",
   "metadata": {},
   "outputs": [
    {
     "data": {
      "text/plain": [
       "array([False, False,  True, False])"
      ]
     },
     "execution_count": 23,
     "metadata": {},
     "output_type": "execute_result"
    }
   ],
   "source": [
    "arr= np.array([np.inf,-np.inf,np.nan, 23])\n",
    "np.isnan(arr)"
   ]
  },
  {
   "cell_type": "markdown",
   "id": "47cd6ed5-e19c-42c8-b59c-6a5419116cea",
   "metadata": {},
   "source": [
    "<h4>8. Write a NumPy program to test element-wise for complex numbers, real numbers in a given array. Also test if a given number is of a scalar type or not. </h4>"
   ]
  },
  {
   "cell_type": "code",
   "execution_count": 30,
   "id": "9b8f857d-b3a0-492c-850a-056ca60c4caf",
   "metadata": {},
   "outputs": [
    {
     "name": "stdout",
     "output_type": "stream",
     "text": [
      "[ True  True False False  True]\n",
      "True\n",
      "[False False  True  True False]\n"
     ]
    }
   ],
   "source": [
    "arr= np.array([1+2j, 1+1j, 3, 3.1, 2j])\n",
    "print(np.iscomplex(arr))\n",
    "print(np.isscalar(2.5))\n",
    "print(np.isreal(arr))"
   ]
  },
  {
   "cell_type": "markdown",
   "id": "13d6fdaf-6b75-46f8-89e2-cb45f6696ae8",
   "metadata": {},
   "source": [
    "<h4>9. Write a NumPy program to test whether two arrays are element-wise equal within a tolerance.</h4>"
   ]
  },
  {
   "cell_type": "code",
   "execution_count": 32,
   "id": "a430f166-19c1-4a16-81a0-34400357580f",
   "metadata": {},
   "outputs": [
    {
     "data": {
      "text/plain": [
       "False"
      ]
     },
     "execution_count": 32,
     "metadata": {},
     "output_type": "execute_result"
    }
   ],
   "source": [
    "a= np.array([1.1,1.002,1.2])\n",
    "b= np.array([2.0,1.009,1.0001])\n",
    "np.allclose(a,b)"
   ]
  },
  {
   "cell_type": "markdown",
   "id": "287a4f96-5fd7-4435-bb7b-9f93d090355b",
   "metadata": {},
   "source": [
    "<h4>10. Write a NumPy program to create an element-wise comparison (greater, greater_equal, less and less_equal) of two given arrays.</h4>"
   ]
  },
  {
   "cell_type": "code",
   "execution_count": 39,
   "id": "9797e630-87ea-48c4-9642-3a3cf374a314",
   "metadata": {},
   "outputs": [
    {
     "name": "stdout",
     "output_type": "stream",
     "text": [
      "[ True  True  True False]\n",
      "[ True  True  True False]\n",
      "[False False False  True]\n",
      "[False False False  True]\n"
     ]
    }
   ],
   "source": [
    "arr1= np.array([99, 45, 33, 23])\n",
    "arr2= np.array([9,33,22,110])\n",
    "print(np.greater(arr1,arr2))\n",
    "print(np.greater_equal(arr1, arr2))\n",
    "print(np.less(arr1,arr2))\n",
    "print(np.less_equal(arr1,arr2))"
   ]
  },
  {
   "cell_type": "markdown",
   "id": "8d5f72d8-a2d2-4700-ab5f-cba0afda3036",
   "metadata": {},
   "source": [
    "<h4>11. Write a  NumPy program to create an element-wise comparison (equal, equal within a tolerance) of two given arrays.</h4>"
   ]
  },
  {
   "cell_type": "code",
   "execution_count": 46,
   "id": "a109294b-fa62-4dc2-89f2-3aaab34b7371",
   "metadata": {},
   "outputs": [
    {
     "name": "stdout",
     "output_type": "stream",
     "text": [
      "[ True  True  True False]\n",
      "True\n"
     ]
    }
   ],
   "source": [
    "arr1= np.array([23,22,45,67.5])\n",
    "arr2= np.array([23,22,45,67.49999])\n",
    "print(np.equal(arr1,arr2))\n",
    "print(np.allclose(arr1,arr2))"
   ]
  },
  {
   "cell_type": "markdown",
   "id": "74cd2f20-4506-4f23-9763-c4c90c07e45a",
   "metadata": {},
   "source": [
    "<h4>12. Write a NumPy program to create an array with the values 1, 7, 13, 105 and determine the size of the memory occupied by the array.</h4>"
   ]
  },
  {
   "cell_type": "code",
   "execution_count": 50,
   "id": "31ea6157-4ceb-4eff-b9b3-221071f838e9",
   "metadata": {},
   "outputs": [
    {
     "data": {
      "text/plain": [
       "16"
      ]
     },
     "execution_count": 50,
     "metadata": {},
     "output_type": "execute_result"
    }
   ],
   "source": [
    "arr= np.array([1,7,13,105])\n",
    "arr.nbytes"
   ]
  },
  {
   "cell_type": "markdown",
   "id": "c6d1935a-0752-4192-9984-c352c12e1736",
   "metadata": {},
   "source": [
    "<h4>13. Write a NumPy program to create an array of 10 zeros, 10 ones, and 10 fives. </h4>"
   ]
  },
  {
   "cell_type": "code",
   "execution_count": 55,
   "id": "1ba55f88-1cf2-4aa1-bbd3-540d9b7ba026",
   "metadata": {},
   "outputs": [
    {
     "name": "stdout",
     "output_type": "stream",
     "text": [
      "[0. 0. 0. 0. 0. 0. 0. 0. 0. 0.]\n",
      "[1. 1. 1. 1. 1. 1. 1. 1. 1. 1.]\n",
      "[5 5 5 5 5 5 5 5 5 5]\n"
     ]
    }
   ],
   "source": [
    "a= np.zeros(10)\n",
    "b= np.ones(10)\n",
    "c= np.full(10, 5)\n",
    "print(a)\n",
    "print(b)\n",
    "print(c)"
   ]
  },
  {
   "cell_type": "markdown",
   "id": "32d3b7d7-89b0-45a4-a6ec-df78be53853f",
   "metadata": {},
   "source": [
    "<h4>\n",
    "    14. Write a NumPy program to create an array of integers from 30 to 70.\n",
    "</h4>"
   ]
  },
  {
   "cell_type": "code",
   "execution_count": 57,
   "id": "ad8b3fe2-ca61-4fae-80f6-cad33accb4a6",
   "metadata": {},
   "outputs": [
    {
     "data": {
      "text/plain": [
       "array([30, 31, 32, 33, 34, 35, 36, 37, 38, 39, 40, 41, 42, 43, 44, 45, 46,\n",
       "       47, 48, 49, 50, 51, 52, 53, 54, 55, 56, 57, 58, 59, 60, 61, 62, 63,\n",
       "       64, 65, 66, 67, 68, 69, 70])"
      ]
     },
     "execution_count": 57,
     "metadata": {},
     "output_type": "execute_result"
    }
   ],
   "source": [
    "arr= np.arange(30, 71)\n",
    "arr"
   ]
  },
  {
   "cell_type": "markdown",
   "id": "cabffdf0-0ec7-404c-ae7b-c61b7b6dc70b",
   "metadata": {},
   "source": [
    "<h4>15.Write a NumPy program to create an array of all even integers from 30 to 70.</h4>"
   ]
  },
  {
   "cell_type": "code",
   "execution_count": 59,
   "id": "2938069e-78c7-411f-803a-b0982de0ab02",
   "metadata": {},
   "outputs": [
    {
     "data": {
      "text/plain": [
       "array([30, 32, 34, 36, 38, 40, 42, 44, 46, 48, 50, 52, 54, 56, 58, 60, 62,\n",
       "       64, 66, 68, 70])"
      ]
     },
     "execution_count": 59,
     "metadata": {},
     "output_type": "execute_result"
    }
   ],
   "source": [
    "arr= np.arange(30,71,2)\n",
    "arr"
   ]
  },
  {
   "cell_type": "markdown",
   "id": "e53b3041-3ba4-45dc-a1cc-5ff7655fc177",
   "metadata": {},
   "source": [
    "<h4>16. Write a NumPy program to create a 3x3 identity matrix.</h4>"
   ]
  },
  {
   "cell_type": "code",
   "execution_count": 60,
   "id": "c9d7cdf6-a863-45ab-832d-b5aa3f32a3ba",
   "metadata": {},
   "outputs": [
    {
     "data": {
      "text/plain": [
       "array([[1., 0., 0.],\n",
       "       [0., 1., 0.],\n",
       "       [0., 0., 1.]])"
      ]
     },
     "execution_count": 60,
     "metadata": {},
     "output_type": "execute_result"
    }
   ],
   "source": [
    "arr= np.eye(3)\n",
    "arr"
   ]
  },
  {
   "cell_type": "markdown",
   "id": "1651cb6f-fd9b-4621-8673-82589479fb98",
   "metadata": {},
   "source": [
    "<h4>17. Write a NumPy program to generate a random number between 0 and 1.</h4>"
   ]
  },
  {
   "cell_type": "code",
   "execution_count": 65,
   "id": "4d8ef7b6-1293-4970-9d2e-92a883fde9c0",
   "metadata": {},
   "outputs": [
    {
     "data": {
      "text/plain": [
       "0.9065083668548636"
      ]
     },
     "execution_count": 65,
     "metadata": {},
     "output_type": "execute_result"
    }
   ],
   "source": [
    "a= np.random.random()\n",
    "a"
   ]
  },
  {
   "cell_type": "markdown",
   "id": "047406d1-ac68-4192-8177-0557c1160edc",
   "metadata": {},
   "source": [
    "<h4>18. Write a NumPy program to generate an array of 15 random numbers from a standard normal distribution.</h4>"
   ]
  },
  {
   "cell_type": "code",
   "execution_count": 66,
   "id": "e3f9f906-e65a-4f9e-8449-c40d3764453f",
   "metadata": {},
   "outputs": [
    {
     "data": {
      "text/plain": [
       "array([ 0.00109881,  0.04073905,  0.52925407,  0.94941153,  0.98486928,\n",
       "        0.67565106,  0.3224187 , -0.61657047, -0.18104926, -0.24819834,\n",
       "        0.15492738,  0.81615935, -1.09782711,  0.73918827,  0.92945082])"
      ]
     },
     "execution_count": 66,
     "metadata": {},
     "output_type": "execute_result"
    }
   ],
   "source": [
    "num= np.random.normal(0,1,15)\n",
    "num"
   ]
  },
  {
   "cell_type": "markdown",
   "id": "53f4d1b3-fb56-4928-9cdc-a4981f97ddc1",
   "metadata": {},
   "source": [
    "<h4>19. Write a NumPy program to create a vector with values ranging from 15 to 55 and print all values except the first and last.</h4>"
   ]
  },
  {
   "cell_type": "code",
   "execution_count": 69,
   "id": "27fdeda1-2ce1-41d9-a99a-88cf8ba54908",
   "metadata": {},
   "outputs": [
    {
     "name": "stdout",
     "output_type": "stream",
     "text": [
      "[16 17 18 19 20 21 22 23 24 25 26 27 28 29 30 31 32 33 34 35 36 37 38 39\n",
      " 40 41 42 43 44 45 46 47 48 49 50 51 52 53]\n"
     ]
    }
   ],
   "source": [
    "arr= np.arange(15,55)\n",
    "print(arr[1:-1])"
   ]
  },
  {
   "cell_type": "markdown",
   "id": "e79ad160-b8cf-48c7-af06-3cd2055a485e",
   "metadata": {},
   "source": [
    "<h4>20. Write a NumPy program to create a 3X4 array and iterate over it.</h4>"
   ]
  },
  {
   "cell_type": "code",
   "execution_count": 77,
   "id": "d8e93768-d4dc-476c-9cf2-e9469e2aab2e",
   "metadata": {},
   "outputs": [
    {
     "name": "stdout",
     "output_type": "stream",
     "text": [
      "0\n",
      "1\n",
      "2\n",
      "3\n",
      "4\n",
      "5\n",
      "6\n",
      "7\n",
      "8\n",
      "9\n",
      "10\n",
      "11\n",
      "0\n",
      "1\n",
      "2\n",
      "3\n",
      "4\n",
      "5\n",
      "6\n",
      "7\n",
      "8\n",
      "9\n",
      "10\n",
      "11\n"
     ]
    }
   ],
   "source": [
    "arr= np.arange(12).reshape((3,4))\n",
    "for e in arr.flat:\n",
    "    print(e)\n",
    "\n",
    "for e in np.nditer(arr):\n",
    "    print(e)"
   ]
  },
  {
   "cell_type": "markdown",
   "id": "3b030d09-48a6-4524-ba0d-df2e4baac25d",
   "metadata": {},
   "source": [
    "<h4>21. Write a NumPy program to create a vector of length 10 with values evenly distributed between 5 and 50.</h4>"
   ]
  },
  {
   "cell_type": "code",
   "execution_count": 78,
   "id": "53b858e7-96d3-4796-8298-979a83ec57bd",
   "metadata": {},
   "outputs": [
    {
     "data": {
      "text/plain": [
       "array([ 5., 10., 15., 20., 25., 30., 35., 40., 45., 50.])"
      ]
     },
     "execution_count": 78,
     "metadata": {},
     "output_type": "execute_result"
    }
   ],
   "source": [
    "arr= np.linspace(5,50,10)\n",
    "arr"
   ]
  },
  {
   "cell_type": "markdown",
   "id": "4e8a5bf7-2974-47f2-9581-2e952011b308",
   "metadata": {},
   "source": [
    "<h4>22. Write a  NumPy program to create a vector with values from 0 to 20 and change the sign of the numbers in the range from 9 to 15.</h4>"
   ]
  },
  {
   "cell_type": "code",
   "execution_count": 80,
   "id": "b048d96c-7d8f-444d-a6d5-a4b5c8a763cc",
   "metadata": {},
   "outputs": [
    {
     "data": {
      "text/plain": [
       "array([  0,   1,   2,   3,   4,   5,   6,   7,   8,  -9, -10, -11, -12,\n",
       "       -13, -14, -15,  16,  17,  18,  19,  20])"
      ]
     },
     "execution_count": 80,
     "metadata": {},
     "output_type": "execute_result"
    }
   ],
   "source": [
    "arr= np.arange(21)\n",
    "arr[9:16] *= -1\n",
    "arr"
   ]
  },
  {
   "cell_type": "markdown",
   "id": "0004c469-234b-46f5-8e11-1a9ae214f871",
   "metadata": {},
   "source": [
    "<h4>23. Write a NumPy program to create a vector of length 5 filled with arbitrary integers from 0 to 10.</h4>"
   ]
  },
  {
   "cell_type": "code",
   "execution_count": 87,
   "id": "d3afd927-46cc-40bc-9012-3dbd7efea5e8",
   "metadata": {},
   "outputs": [
    {
     "data": {
      "text/plain": [
       "array([6, 2, 2, 9, 0])"
      ]
     },
     "execution_count": 87,
     "metadata": {},
     "output_type": "execute_result"
    }
   ],
   "source": [
    "arr= np.random.randint(0,10,5)\n",
    "arr"
   ]
  },
  {
   "cell_type": "markdown",
   "id": "ca4c0d32-ea9c-4072-9883-f62504f93689",
   "metadata": {},
   "source": [
    "<h4>24. Write a NumPy program to multiply the values of two given vectors.</h4>"
   ]
  },
  {
   "cell_type": "code",
   "execution_count": 89,
   "id": "358e98d2-218b-4d4d-9c39-19d88b817125",
   "metadata": {},
   "outputs": [
    {
     "data": {
      "text/plain": [
       "array([25, 20, 12,  0])"
      ]
     },
     "execution_count": 89,
     "metadata": {},
     "output_type": "execute_result"
    }
   ],
   "source": [
    "a= np.array([5,5,3,1])\n",
    "b= np.array([5,4,4,0])\n",
    "a * b"
   ]
  },
  {
   "cell_type": "markdown",
   "id": "3b576c47-4c90-4bf5-8ba3-5979b3084b0b",
   "metadata": {},
   "source": [
    "<h4>25. Write a NumPy program to create a 3x4 matrix filled with values from 10 to 21.</h4>"
   ]
  },
  {
   "cell_type": "code",
   "execution_count": 93,
   "id": "a0fef598-81d6-485d-a33b-3bc8501ebaec",
   "metadata": {},
   "outputs": [
    {
     "data": {
      "text/plain": [
       "array([[10, 11, 12, 13],\n",
       "       [14, 15, 16, 17],\n",
       "       [18, 19, 20, 21]])"
      ]
     },
     "execution_count": 93,
     "metadata": {},
     "output_type": "execute_result"
    }
   ],
   "source": [
    "arr= np.arange(10,22).reshape((3,4))\n",
    "arr"
   ]
  },
  {
   "cell_type": "markdown",
   "id": "903ed60d-62f5-4b5d-8248-f508c9da3acf",
   "metadata": {},
   "source": [
    "<h4>26. Write a NumPy program to find the number of rows and columns in a given matrix.</h4>"
   ]
  },
  {
   "cell_type": "code",
   "execution_count": 98,
   "id": "2e2beada-8611-4412-8162-53ba5ffe46b8",
   "metadata": {},
   "outputs": [
    {
     "data": {
      "text/plain": [
       "(3, 4)"
      ]
     },
     "execution_count": 98,
     "metadata": {},
     "output_type": "execute_result"
    }
   ],
   "source": [
    "arr= np.arange(10,22).reshape((3,4))\n",
    "arr.shape"
   ]
  },
  {
   "cell_type": "markdown",
   "id": "e6cdd807-e013-4bf2-a723-df67128182c3",
   "metadata": {},
   "source": [
    "<h4>27. Write a NumPy program to create a 3x3 identity matrix, i.e. the diagonal elements are 1, the rest are 0.</h4>"
   ]
  },
  {
   "cell_type": "code",
   "execution_count": 99,
   "id": "ccc1e3fa-a1c9-4125-826f-78d2e4a2b5c3",
   "metadata": {},
   "outputs": [
    {
     "data": {
      "text/plain": [
       "array([[1., 0., 0.],\n",
       "       [0., 1., 0.],\n",
       "       [0., 0., 1.]])"
      ]
     },
     "execution_count": 99,
     "metadata": {},
     "output_type": "execute_result"
    }
   ],
   "source": [
    "i_arr= np.eye(3)\n",
    "i_arr"
   ]
  },
  {
   "cell_type": "markdown",
   "id": "d771bd1b-de88-46e9-a254-0309e9ca5c7d",
   "metadata": {},
   "source": [
    "<h4>28. Write a NumPy program to create a 10x10 matrix, in which the elements on the borders will be equal to 1, and inside 0.</h4>"
   ]
  },
  {
   "cell_type": "code",
   "execution_count": null,
   "id": "6ce64c67-fa8e-43ff-8092-dc0826e41e89",
   "metadata": {},
   "outputs": [],
   "source": []
  }
 ],
 "metadata": {
  "kernelspec": {
   "display_name": "Python 3 (ipykernel)",
   "language": "python",
   "name": "python3"
  },
  "language_info": {
   "codemirror_mode": {
    "name": "ipython",
    "version": 3
   },
   "file_extension": ".py",
   "mimetype": "text/x-python",
   "name": "python",
   "nbconvert_exporter": "python",
   "pygments_lexer": "ipython3",
   "version": "3.12.2"
  }
 },
 "nbformat": 4,
 "nbformat_minor": 5
}
